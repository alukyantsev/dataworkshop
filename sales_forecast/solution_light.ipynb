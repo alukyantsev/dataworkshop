{
 "cells": [
  {
   "cell_type": "markdown",
   "id": "diverse-color",
   "metadata": {},
   "source": [
    "### Стартер 5\n",
    "# 🏬 DWthon 5.0 - прогнозирование еженедельных продаж на год вперед 🏬\n",
    "\n",
    "![](./images/ecommerce.png)\n",
    "\n",
    "Последний стартер перед Тобой, но помни, что это не последний шаг, который можешь сделать. Это всего лишь руководство для тех, кто нуждается в поддержке. Цель соревнований - попробовать все, что здесь есть ;), но общая цель - развитие :) Поэтому есть стартеры, которые нужно делать только с пониманием и иметь какой-то минимальный опыт, позволяющий разгоняться.\n",
    "\n",
    "\n",
    "Что происходит в этом стартере?\n",
    "\n",
    "1. Я сделал то, чего никогда не делаю 😱 Я удалил строки 😱 Не считай это чем-то достойным повторения в каждой ситуации, наоборот, лучше этого не делать, но стоит иметь в виду, что бывают ситуации, когда можно это сделать, если улучшится результат и этих строк мало.\n",
    "\n",
    "2. Я логарифмирую целевую переменную. Смотри, что получилось :)"
   ]
  },
  {
   "cell_type": "markdown",
   "id": "noted-fifteen",
   "metadata": {},
   "source": [
    "## 📥 Импортируем нужные библиотеки"
   ]
  },
  {
   "cell_type": "code",
   "execution_count": 1,
   "id": "grateful-iraqi",
   "metadata": {},
   "outputs": [],
   "source": [
    "import pandas as pd\n",
    "import numpy as np\n",
    "from sklearn.model_selection import cross_val_score\n",
    "\n",
    "import xgboost as xgb\n",
    "import catboost as ctb\n",
    "\n",
    "import matplotlib.pyplot as plt\n",
    "plt.rcParams[\"figure.figsize\"] = (15, 5)\n",
    "import seaborn as sns"
   ]
  },
  {
   "cell_type": "markdown",
   "id": "scenic-malpractice",
   "metadata": {},
   "source": [
    "## 🗃️  Загружаем данные\n"
   ]
  },
  {
   "cell_type": "code",
   "execution_count": 2,
   "id": "greenhouse-layer",
   "metadata": {},
   "outputs": [
    {
     "data": {
      "text/html": [
       "<div>\n",
       "<style scoped>\n",
       "    .dataframe tbody tr th:only-of-type {\n",
       "        vertical-align: middle;\n",
       "    }\n",
       "\n",
       "    .dataframe tbody tr th {\n",
       "        vertical-align: top;\n",
       "    }\n",
       "\n",
       "    .dataframe thead th {\n",
       "        text-align: right;\n",
       "    }\n",
       "</style>\n",
       "<table border=\"1\" class=\"dataframe\">\n",
       "  <thead>\n",
       "    <tr style=\"text-align: right;\">\n",
       "      <th></th>\n",
       "      <th>id</th>\n",
       "      <th>weekly_sales</th>\n",
       "      <th>store</th>\n",
       "      <th>dept</th>\n",
       "      <th>date</th>\n",
       "      <th>is_holiday</th>\n",
       "    </tr>\n",
       "  </thead>\n",
       "  <tbody>\n",
       "    <tr>\n",
       "      <th>79017</th>\n",
       "      <td>79017</td>\n",
       "      <td>20094.189453</td>\n",
       "      <td>1</td>\n",
       "      <td>1</td>\n",
       "      <td>2010-01-10</td>\n",
       "      <td>False</td>\n",
       "    </tr>\n",
       "    <tr>\n",
       "      <th>81351</th>\n",
       "      <td>81351</td>\n",
       "      <td>57258.429688</td>\n",
       "      <td>1</td>\n",
       "      <td>1</td>\n",
       "      <td>2010-02-04</td>\n",
       "      <td>False</td>\n",
       "    </tr>\n",
       "    <tr>\n",
       "      <th>256391</th>\n",
       "      <td>256391</td>\n",
       "      <td>16333.139648</td>\n",
       "      <td>1</td>\n",
       "      <td>1</td>\n",
       "      <td>2010-02-07</td>\n",
       "      <td>False</td>\n",
       "    </tr>\n",
       "    <tr>\n",
       "      <th>115305</th>\n",
       "      <td>115305</td>\n",
       "      <td>41595.550781</td>\n",
       "      <td>1</td>\n",
       "      <td>1</td>\n",
       "      <td>2010-02-19</td>\n",
       "      <td>False</td>\n",
       "    </tr>\n",
       "    <tr>\n",
       "      <th>351187</th>\n",
       "      <td>351187</td>\n",
       "      <td>19403.539062</td>\n",
       "      <td>1</td>\n",
       "      <td>1</td>\n",
       "      <td>2010-02-26</td>\n",
       "      <td>False</td>\n",
       "    </tr>\n",
       "    <tr>\n",
       "      <th>286688</th>\n",
       "      <td>286688</td>\n",
       "      <td>16241.780273</td>\n",
       "      <td>1</td>\n",
       "      <td>1</td>\n",
       "      <td>2010-03-09</td>\n",
       "      <td>False</td>\n",
       "    </tr>\n",
       "    <tr>\n",
       "      <th>37947</th>\n",
       "      <td>37947</td>\n",
       "      <td>22517.560547</td>\n",
       "      <td>1</td>\n",
       "      <td>1</td>\n",
       "      <td>2010-03-12</td>\n",
       "      <td>False</td>\n",
       "    </tr>\n",
       "    <tr>\n",
       "      <th>72620</th>\n",
       "      <td>72620</td>\n",
       "      <td>22136.640625</td>\n",
       "      <td>1</td>\n",
       "      <td>1</td>\n",
       "      <td>2010-03-19</td>\n",
       "      <td>False</td>\n",
       "    </tr>\n",
       "    <tr>\n",
       "      <th>384329</th>\n",
       "      <td>384329</td>\n",
       "      <td>26229.210938</td>\n",
       "      <td>1</td>\n",
       "      <td>1</td>\n",
       "      <td>2010-03-26</td>\n",
       "      <td>False</td>\n",
       "    </tr>\n",
       "    <tr>\n",
       "      <th>294658</th>\n",
       "      <td>294658</td>\n",
       "      <td>17558.089844</td>\n",
       "      <td>1</td>\n",
       "      <td>1</td>\n",
       "      <td>2010-04-06</td>\n",
       "      <td>False</td>\n",
       "    </tr>\n",
       "  </tbody>\n",
       "</table>\n",
       "</div>"
      ],
      "text/plain": [
       "            id  weekly_sales  store  dept       date  is_holiday\n",
       "79017    79017  20094.189453      1     1 2010-01-10       False\n",
       "81351    81351  57258.429688      1     1 2010-02-04       False\n",
       "256391  256391  16333.139648      1     1 2010-02-07       False\n",
       "115305  115305  41595.550781      1     1 2010-02-19       False\n",
       "351187  351187  19403.539062      1     1 2010-02-26       False\n",
       "286688  286688  16241.780273      1     1 2010-03-09       False\n",
       "37947    37947  22517.560547      1     1 2010-03-12       False\n",
       "72620    72620  22136.640625      1     1 2010-03-19       False\n",
       "384329  384329  26229.210938      1     1 2010-03-26       False\n",
       "294658  294658  17558.089844      1     1 2010-04-06       False"
      ]
     },
     "execution_count": 2,
     "metadata": {},
     "output_type": "execute_result"
    }
   ],
   "source": [
    "df_sales_train = pd.read_hdf(\"./input/sales_train.h5\")\n",
    "df_sales_test = pd.read_hdf(\"./input/sales_test.h5\")\n",
    "\n",
    "df_sales_train[\"date\"] = pd.to_datetime(df_sales_train[\"date\"])\n",
    "\n",
    "df_sales_train = df_sales_train.sort_values(by=[\"store\", \"dept\", \"date\"])\n",
    "df_sales_test[\"date\"] = pd.to_datetime(df_sales_test[\"date\"])\n",
    "\n",
    "df_sales_train.head(10)"
   ]
  },
  {
   "cell_type": "markdown",
   "id": "sudden-riding",
   "metadata": {},
   "source": [
    "Воспользуемся предыдущим кодом."
   ]
  },
  {
   "cell_type": "code",
   "execution_count": 3,
   "id": "tired-sierra",
   "metadata": {},
   "outputs": [
    {
     "name": "stderr",
     "output_type": "stream",
     "text": [
      "/tmp/ipykernel_61/3090744413.py:4: FutureWarning: Series.dt.weekofyear and Series.dt.week have been deprecated.  Please use Series.dt.isocalendar().week instead.\n",
      "  df[\"week\"] = df[\"date\"].dt.week\n"
     ]
    },
    {
     "data": {
      "text/html": [
       "<div>\n",
       "<style scoped>\n",
       "    .dataframe tbody tr th:only-of-type {\n",
       "        vertical-align: middle;\n",
       "    }\n",
       "\n",
       "    .dataframe tbody tr th {\n",
       "        vertical-align: top;\n",
       "    }\n",
       "\n",
       "    .dataframe thead th {\n",
       "        text-align: right;\n",
       "    }\n",
       "</style>\n",
       "<table border=\"1\" class=\"dataframe\">\n",
       "  <thead>\n",
       "    <tr style=\"text-align: right;\">\n",
       "      <th></th>\n",
       "      <th>id</th>\n",
       "      <th>weekly_sales</th>\n",
       "      <th>store</th>\n",
       "      <th>dept</th>\n",
       "      <th>date</th>\n",
       "      <th>is_holiday</th>\n",
       "      <th>dayofweek</th>\n",
       "      <th>dayofyear</th>\n",
       "      <th>week</th>\n",
       "      <th>month</th>\n",
       "      <th>mean</th>\n",
       "      <th>std</th>\n",
       "      <th>median</th>\n",
       "      <th>size</th>\n",
       "    </tr>\n",
       "  </thead>\n",
       "  <tbody>\n",
       "    <tr>\n",
       "      <th>0</th>\n",
       "      <td>79017</td>\n",
       "      <td>20094.189453</td>\n",
       "      <td>1</td>\n",
       "      <td>1</td>\n",
       "      <td>2010-01-10</td>\n",
       "      <td>False</td>\n",
       "      <td>6</td>\n",
       "      <td>10</td>\n",
       "      <td>1</td>\n",
       "      <td>1</td>\n",
       "      <td>22494.710938</td>\n",
       "      <td>9784.865055</td>\n",
       "      <td>18820.289062</td>\n",
       "      <td>97</td>\n",
       "    </tr>\n",
       "    <tr>\n",
       "      <th>1</th>\n",
       "      <td>81351</td>\n",
       "      <td>57258.429688</td>\n",
       "      <td>1</td>\n",
       "      <td>1</td>\n",
       "      <td>2010-02-04</td>\n",
       "      <td>False</td>\n",
       "      <td>3</td>\n",
       "      <td>35</td>\n",
       "      <td>5</td>\n",
       "      <td>2</td>\n",
       "      <td>22494.710938</td>\n",
       "      <td>9784.865055</td>\n",
       "      <td>18820.289062</td>\n",
       "      <td>97</td>\n",
       "    </tr>\n",
       "    <tr>\n",
       "      <th>2</th>\n",
       "      <td>256391</td>\n",
       "      <td>16333.139648</td>\n",
       "      <td>1</td>\n",
       "      <td>1</td>\n",
       "      <td>2010-02-07</td>\n",
       "      <td>False</td>\n",
       "      <td>6</td>\n",
       "      <td>38</td>\n",
       "      <td>5</td>\n",
       "      <td>2</td>\n",
       "      <td>22494.710938</td>\n",
       "      <td>9784.865055</td>\n",
       "      <td>18820.289062</td>\n",
       "      <td>97</td>\n",
       "    </tr>\n",
       "    <tr>\n",
       "      <th>3</th>\n",
       "      <td>115305</td>\n",
       "      <td>41595.550781</td>\n",
       "      <td>1</td>\n",
       "      <td>1</td>\n",
       "      <td>2010-02-19</td>\n",
       "      <td>False</td>\n",
       "      <td>4</td>\n",
       "      <td>50</td>\n",
       "      <td>7</td>\n",
       "      <td>2</td>\n",
       "      <td>22494.710938</td>\n",
       "      <td>9784.865055</td>\n",
       "      <td>18820.289062</td>\n",
       "      <td>97</td>\n",
       "    </tr>\n",
       "    <tr>\n",
       "      <th>4</th>\n",
       "      <td>351187</td>\n",
       "      <td>19403.539062</td>\n",
       "      <td>1</td>\n",
       "      <td>1</td>\n",
       "      <td>2010-02-26</td>\n",
       "      <td>False</td>\n",
       "      <td>4</td>\n",
       "      <td>57</td>\n",
       "      <td>8</td>\n",
       "      <td>2</td>\n",
       "      <td>22494.710938</td>\n",
       "      <td>9784.865055</td>\n",
       "      <td>18820.289062</td>\n",
       "      <td>97</td>\n",
       "    </tr>\n",
       "  </tbody>\n",
       "</table>\n",
       "</div>"
      ],
      "text/plain": [
       "       id  weekly_sales  store  dept       date  is_holiday  dayofweek  \\\n",
       "0   79017  20094.189453      1     1 2010-01-10       False          6   \n",
       "1   81351  57258.429688      1     1 2010-02-04       False          3   \n",
       "2  256391  16333.139648      1     1 2010-02-07       False          6   \n",
       "3  115305  41595.550781      1     1 2010-02-19       False          4   \n",
       "4  351187  19403.539062      1     1 2010-02-26       False          4   \n",
       "\n",
       "   dayofyear  week  month          mean          std        median  size  \n",
       "0         10     1      1  22494.710938  9784.865055  18820.289062    97  \n",
       "1         35     5      2  22494.710938  9784.865055  18820.289062    97  \n",
       "2         38     5      2  22494.710938  9784.865055  18820.289062    97  \n",
       "3         50     7      2  22494.710938  9784.865055  18820.289062    97  \n",
       "4         57     8      2  22494.710938  9784.865055  18820.289062    97  "
      ]
     },
     "execution_count": 3,
     "metadata": {},
     "output_type": "execute_result"
    }
   ],
   "source": [
    "def feature_engineering(df):\n",
    "    df[\"dayofweek\"] = df[\"date\"].dt.dayofweek\n",
    "    df[\"dayofyear\"] = df[\"date\"].dt.dayofyear\n",
    "    df[\"week\"] = df[\"date\"].dt.week\n",
    "    df[\"month\"] = df[\"date\"].dt.month\n",
    "\n",
    "    \n",
    "    return df\n",
    "\n",
    "df_sales_train = feature_engineering(df_sales_train)\n",
    "df_sales_test = feature_engineering(df_sales_test)\n",
    "\n",
    "\n",
    "df_store = df_sales_train[ [\"store\", \"dept\", \"weekly_sales\"] ].groupby([\"store\", \"dept\"]).agg([\"mean\", \"std\", \"median\", \"size\"])[\"weekly_sales\"].reset_index()\n",
    "df_store.head()\n",
    "\n",
    "\n",
    "df_sales_train_ext = pd.merge(df_sales_train, df_store, on=[\"store\", \"dept\"], how=\"left\").fillna(-1)\n",
    "df_sales_test_ext = pd.merge(df_sales_test, df_store, on=[\"store\", \"dept\"], how=\"left\").fillna(-1)\n",
    "df_sales_train_ext.head()"
   ]
  },
  {
   "cell_type": "code",
   "execution_count": 4,
   "id": "rising-article",
   "metadata": {},
   "outputs": [
    {
     "data": {
      "image/png": "[encoded data removed]",
      "text/plain": [
       "<Figure size 1080x360 with 1 Axes>"
      ]
     },
     "metadata": {
      "needs_background": "light"
     },
     "output_type": "display_data"
    }
   ],
   "source": [
    "df_sales_train[\"weekly_sales\"].hist(bins=100);"
   ]
  },
  {
   "cell_type": "markdown",
   "id": "statistical-accessory",
   "metadata": {},
   "source": [
    "## ⚙️Подготовка `X`, `y`\n",
    "\n",
    "У нас уже есть признаки, теперь мы можем подготовить нашу матрицу."
   ]
  },
  {
   "cell_type": "code",
   "execution_count": 5,
   "id": "proved-telephone",
   "metadata": {},
   "outputs": [],
   "source": [
    "feats = [\"store\", \"dept\", \"is_holiday\", \"week\", \"mean\", \"std\", \"median\", \"size\"]\n",
    "\n",
    "X_train = df_sales_train_ext[ feats ].values\n",
    "X_test = df_sales_test_ext[ feats ].values\n",
    "\n",
    "\n",
    "\n",
    "y_train = df_sales_train_ext[\"weekly_sales\"].values\n",
    "X_train = X_train[ y_train > 0 ]\n",
    "y_train = y_train[ y_train > 0 ]\n",
    "\n",
    "\n",
    "y_train_log = np.log(y_train)"
   ]
  },
  {
   "cell_type": "markdown",
   "id": "middle-father",
   "metadata": {},
   "source": [
    "Обрати внимание, что `y_train` также имеет отрицательные значения. Логарифм с этим не справляется, поэтому мы удалили строки, где продажи отрицательные (кстати, интересно, почему продажи были отрицательными?). К счастью, таких строк было немного.\n",
    "\n",
    "## Обучаем модель\n",
    "\n",
    "Обучим модель прогнозированию.\n",
    "\n",
    "⌛️⌛️⌛️ Само обучение займет «немного» времени, просто подожди минуту или дольше. Модель учится 🦾."
   ]
  },
  {
   "cell_type": "code",
   "execution_count": 6,
   "id": "composite-yacht",
   "metadata": {},
   "outputs": [
    {
     "data": {
      "text/plain": [
       "XGBRegressor(base_score=0.5, booster='gbtree', colsample_bylevel=1,\n",
       "             colsample_bynode=1, colsample_bytree=1, gamma=0, gpu_id=-1,\n",
       "             importance_type='gain', interaction_constraints='',\n",
       "             learning_rate=0.1, max_delta_step=0, max_depth=10,\n",
       "             min_child_weight=1, missing=nan, monotone_constraints='()',\n",
       "             n_estimators=500, n_jobs=8, num_parallel_tree=1, random_state=0,\n",
       "             reg_alpha=0, reg_lambda=1, scale_pos_weight=1, subsample=1,\n",
       "             tree_method='exact', validate_parameters=1, verbosity=None)"
      ]
     },
     "execution_count": 6,
     "metadata": {},
     "output_type": "execute_result"
    }
   ],
   "source": [
    "model = xgb.XGBRegressor(max_depth=10, n_estimators=500, learning_rate=0.1, random_state=0)\n",
    "model.fit(X_train, y_train_log)"
   ]
  },
  {
   "cell_type": "markdown",
   "id": "silent-grocery",
   "metadata": {},
   "source": [
    "## 🌎 Submit"
   ]
  },
  {
   "cell_type": "code",
   "execution_count": 7,
   "id": "cubic-adoption",
   "metadata": {},
   "outputs": [],
   "source": [
    "!mkdir -p ./output"
   ]
  },
  {
   "cell_type": "code",
   "execution_count": 8,
   "id": "hawaiian-mineral",
   "metadata": {},
   "outputs": [],
   "source": [
    "df_sales_test[\"weekly_sales\"] = np.exp(model.predict(X_test))\n",
    "\n",
    "df_sales_test[ [\"id\", \"weekly_sales\"] ].to_csv(\"./output/simple_xgb_log.csv\", index=False)"
   ]
  },
  {
   "cell_type": "markdown",
   "id": "exciting-philip",
   "metadata": {},
   "source": [
    "## Что дальше ;)\n",
    "\n",
    "Стоит больше заниматься **feature engineering**. Больше экспериментов.\n",
    "\n",
    "Экспериментируй, но избегай «черных дыр». Одним словом, применяй на практике правило 80 на 20."
   ]
  },
  {
   "cell_type": "code",
   "execution_count": 9,
   "id": "optional-miniature",
   "metadata": {},
   "outputs": [],
   "source": [
    "## YOUR CODE HERE"
   ]
  },
  {
   "cell_type": "markdown",
   "id": "convertible-amplifier",
   "metadata": {},
   "source": [
    "## 🤝🗣️ Совместное обсуждение и обмен опытом 💬\n",
    "Соревнование соревнованием, но во всем этом есть нечто большее, чем победа...\n",
    "\n",
    "👉 *сотрудничество, общение, творческое и критическое мышление* - это ценности и навыки, о которых стоит заботиться\n",
    "\n",
    "Прежде всего, речь идет о том, чтобы как можно больше учиться и поддерживать друг друга. Помни о здоровой конкуренции и взаимной помощи\n",
    "🤝 \n",
    "\n",
    "Для проведения конкурса в Kaggle мы создали отдельные каналы:\n",
    "- [#dwthon_general](https://dataworkshop-ru.slack.com/archives/C02NRMNLE2D) - **общий канал**\n",
    "- [#dwthon_ideas](https://dataworkshop-ru.slack.com/archives/C02N6CBK1CN) - **канал, где можно делиться мыслями и идеями**\n",
    "- [#dwthon_questions](https://dataworkshop-ru.slack.com/archives/C02N6C69G3Y) - **канал, где можно задавать вопросы**"
   ]
  },
  {
   "cell_type": "markdown",
   "id": "considerable-romantic",
   "metadata": {},
   "source": [
    "\n",
    "##  Некоторые факты о `DWClub`:\n",
    "- Участники `DW Club` имеют доступ к материалам 24/7\n",
    "- Этот интенсив - уже очередной материал для `DW Club`, и с каждым месяцем их количество будет только увеличиваться.\n",
    "- Участникам `DW Club` предоставляются более выгодные условия покупки платных курсов и т.д.\n",
    "\n",
    "Узнай больше [нажав на ссылку](https://dataworkshop.ru/data-science/dw-club)."
   ]
  },
  {
   "cell_type": "code",
   "execution_count": null,
   "id": "physical-rescue",
   "metadata": {},
   "outputs": [],
   "source": []
  }
 ],
 "metadata": {
  "kernelspec": {
   "display_name": "Python 3 (ipykernel)",
   "language": "python",
   "name": "python3"
  },
  "language_info": {
   "codemirror_mode": {
    "name": "ipython",
    "version": 3
   },
   "file_extension": ".py",
   "mimetype": "text/x-python",
   "name": "python",
   "nbconvert_exporter": "python",
   "pygments_lexer": "ipython3",
   "version": "3.8.12"
  }
 },
 "nbformat": 4,
 "nbformat_minor": 5
}
